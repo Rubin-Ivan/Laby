{
 "cells": [
  {
   "cell_type": "markdown",
   "id": "e6d7395c",
   "metadata": {},
   "source": [
    "## Классификация методом k ближайших соседей и набор данных Digits"
   ]
  },
  {
   "cell_type": "markdown",
   "id": "89f64ace",
   "metadata": {},
   "source": [
    "будет рассмотрена задача классификации в области машинного обучения с учителем, где требуется спрогнозировать класс, к которому относится образец."
   ]
  },
  {
   "cell_type": "markdown",
   "id": "ea8f27ea",
   "metadata": {},
   "source": [
    "Воспользуемся набором данных Digits2, входящим в поставку scikit-learn. Набор состоит из изображений 8 × 8 пикселов и представляет 1797 рукописных цифр (от 0 до 9). Требуется определить, какую цифру представляет изображение."
   ]
  },
  {
   "cell_type": "markdown",
   "id": "b1de3493",
   "metadata": {},
   "source": [
    "Основные этапы реализации машинного обучения:\n",
    "\n",
    "- Выбор данных для обучения модели.\n",
    "\n",
    "- Загрузка и анализ данных.\n",
    "\n",
    "- Разбиение данных для обучения и тестирования.\n",
    "\n",
    "- Выбор и построение модели.\n",
    "\n",
    "- Обучение модели.\n",
    "\n",
    "- Формирование прогнозов."
   ]
  },
  {
   "cell_type": "markdown",
   "id": "e819df13",
   "metadata": {},
   "source": [
    "KNN алгоритм пытается спрогнозировать класс тестового образца, анализируя k обучающих образцов, расположенных ближе всего (по расстоянию) к тестовому образцу."
   ]
  },
  {
   "cell_type": "markdown",
   "id": "54e5525b",
   "metadata": {},
   "source": [
    "### Загрузка набора данных"
   ]
  },
  {
   "cell_type": "code",
   "execution_count": 1,
   "id": "7f3d739a",
   "metadata": {},
   "outputs": [],
   "source": [
    "from sklearn.datasets import load_digits"
   ]
  },
  {
   "cell_type": "code",
   "execution_count": 2,
   "id": "01f92635",
   "metadata": {},
   "outputs": [],
   "source": [
    "digits = load_digits()"
   ]
  },
  {
   "cell_type": "markdown",
   "id": "c89dd8d2",
   "metadata": {},
   "source": [
    "### Проверка атрибутов data и target"
   ]
  },
  {
   "cell_type": "markdown",
   "id": "418f4d5f",
   "metadata": {},
   "source": [
    "Атрибуты data и target объекта Bunch представляют собой массивы NumPy:\n",
    "\n",
    "   - Массив data содержит 1797 образца (изображения цифр), каждый из которых несет 64 признака со значениями в диапазоне 0–16, представляющие интенсивности пикселов.\n",
    "    \n",
    "   - Массив target содержит метки изображений, то есть классы, указывающие, какую цифру представляет каждое изображение."
   ]
  },
  {
   "cell_type": "code",
   "execution_count": 3,
   "id": "a43b33b3",
   "metadata": {},
   "outputs": [
    {
     "data": {
      "text/plain": [
       "array([0, 4, 1, 7, 4, 8, 2, 2, 4, 4, 1, 9, 7, 3, 2, 1, 2, 5])"
      ]
     },
     "execution_count": 3,
     "metadata": {},
     "output_type": "execute_result"
    }
   ],
   "source": [
    "digits.target[::100]"
   ]
  },
  {
   "cell_type": "code",
   "execution_count": 4,
   "id": "7829897f",
   "metadata": {},
   "outputs": [
    {
     "data": {
      "text/plain": [
       "(1797, 64)"
      ]
     },
     "execution_count": 4,
     "metadata": {},
     "output_type": "execute_result"
    }
   ],
   "source": [
    "digits.data.shape"
   ]
  },
  {
   "cell_type": "code",
   "execution_count": 5,
   "id": "e58fece8",
   "metadata": {},
   "outputs": [
    {
     "data": {
      "text/plain": [
       "(1797,)"
      ]
     },
     "execution_count": 5,
     "metadata": {},
     "output_type": "execute_result"
    }
   ],
   "source": [
    "digits.target.shape"
   ]
  },
  {
   "cell_type": "markdown",
   "id": "a52326ec",
   "metadata": {},
   "source": [
    "### Пример изображения цифры"
   ]
  },
  {
   "cell_type": "markdown",
   "id": "a2bab575",
   "metadata": {},
   "source": [
    "Все изображения двумерны — они обладают шириной и высотой в пикселах.\n",
    "\n",
    "Объект Bunch, возвращаемый load_digits, содержит атрибут images — массив, каждый элемент которого представляет собой двумерный массив 8 × 8 с интенсивностями пикселов изображения цифры."
   ]
  },
  {
   "cell_type": "code",
   "execution_count": 6,
   "id": "e1f96d46",
   "metadata": {},
   "outputs": [
    {
     "data": {
      "text/plain": [
       "array([[ 0.,  2.,  9., 15., 14.,  9.,  3.,  0.],\n",
       "       [ 0.,  4., 13.,  8.,  9., 16.,  8.,  0.],\n",
       "       [ 0.,  0.,  0.,  6., 14., 15.,  3.,  0.],\n",
       "       [ 0.,  0.,  0., 11., 14.,  2.,  0.,  0.],\n",
       "       [ 0.,  0.,  0.,  2., 15., 11.,  0.,  0.],\n",
       "       [ 0.,  0.,  0.,  0.,  2., 15.,  4.,  0.],\n",
       "       [ 0.,  1.,  5.,  6., 13., 16.,  6.,  0.],\n",
       "       [ 0.,  2., 12., 12., 13., 11.,  0.,  0.]])"
      ]
     },
     "execution_count": 6,
     "metadata": {},
     "output_type": "execute_result"
    }
   ],
   "source": [
    "digits.images[13]"
   ]
  },
  {
   "cell_type": "markdown",
   "id": "fcc02213",
   "metadata": {},
   "source": [
    "### Подготовка данных для использования со scikit-learn"
   ]
  },
  {
   "cell_type": "markdown",
   "id": "596651e8",
   "metadata": {},
   "source": [
    "Алгоритмы машинного обучения scikit-learn требуют, чтобы образцы хранились в двумерном массиве значений с плавающей точкой (или коллекции, сходной с двумерным массивом, например списком списков или коллекцией pandas DataFrame):\n",
    "- каждая строка представляет один образец;\n",
    "- каждый столбец заданной строки представляет один признак этого образца.\n",
    "\n",
    "Для представления каждого образца в виде одной строки данных многомерные данные (например, двумерный массив image из фрагмента) должны быть преобразованы в одномерный массив.\n",
    "\n",
    "Если вы работаете с данными, содержащими категорийные признаки (обычно представленные в виде строк — скажем, 'spam' и 'not-spam'), то вам также придется провести предварительную обработку этих признаков и преобразовать их в числовые значения"
   ]
  },
  {
   "cell_type": "code",
   "execution_count": 7,
   "id": "36f5f44d",
   "metadata": {},
   "outputs": [
    {
     "data": {
      "text/plain": [
       "array([ 0.,  2.,  9., 15., 14.,  9.,  3.,  0.,  0.,  4., 13.,  8.,  9.,\n",
       "       16.,  8.,  0.,  0.,  0.,  0.,  6., 14., 15.,  3.,  0.,  0.,  0.,\n",
       "        0., 11., 14.,  2.,  0.,  0.,  0.,  0.,  0.,  2., 15., 11.,  0.,\n",
       "        0.,  0.,  0.,  0.,  0.,  2., 15.,  4.,  0.,  0.,  1.,  5.,  6.,\n",
       "       13., 16.,  6.,  0.,  0.,  2., 12., 12., 13., 11.,  0.,  0.])"
      ]
     },
     "execution_count": 7,
     "metadata": {},
     "output_type": "execute_result"
    }
   ],
   "source": [
    "digits.data[13]"
   ]
  },
  {
   "cell_type": "markdown",
   "id": "9152eff8",
   "metadata": {},
   "source": [
    "### Визуализация данных"
   ]
  },
  {
   "cell_type": "code",
   "execution_count": 8,
   "id": "c122a0f0",
   "metadata": {},
   "outputs": [],
   "source": [
    "import matplotlib.pyplot as plt"
   ]
  },
  {
   "cell_type": "code",
   "execution_count": 48,
   "id": "157124f4",
   "metadata": {},
   "outputs": [
    {
     "data": {
      "application/javascript": [
       "/* Put everything inside the global mpl namespace */\n",
       "/* global mpl */\n",
       "window.mpl = {};\n",
       "\n",
       "mpl.get_websocket_type = function () {\n",
       "    if (typeof WebSocket !== 'undefined') {\n",
       "        return WebSocket;\n",
       "    } else if (typeof MozWebSocket !== 'undefined') {\n",
       "        return MozWebSocket;\n",
       "    } else {\n",
       "        alert(\n",
       "            'Your browser does not have WebSocket support. ' +\n",
       "                'Please try Chrome, Safari or Firefox ≥ 6. ' +\n",
       "                'Firefox 4 and 5 are also supported but you ' +\n",
       "                'have to enable WebSockets in about:config.'\n",
       "        );\n",
       "    }\n",
       "};\n",
       "\n",
       "mpl.figure = function (figure_id, websocket, ondownload, parent_element) {\n",
       "    this.id = figure_id;\n",
       "\n",
       "    this.ws = websocket;\n",
       "\n",
       "    this.supports_binary = this.ws.binaryType !== undefined;\n",
       "\n",
       "    if (!this.supports_binary) {\n",
       "        var warnings = document.getElementById('mpl-warnings');\n",
       "        if (warnings) {\n",
       "            warnings.style.display = 'block';\n",
       "            warnings.textContent =\n",
       "                'This browser does not support binary websocket messages. ' +\n",
       "                'Performance may be slow.';\n",
       "        }\n",
       "    }\n",
       "\n",
       "    this.imageObj = new Image();\n",
       "\n",
       "    this.context = undefined;\n",
       "    this.message = undefined;\n",
       "    this.canvas = undefined;\n",
       "    this.rubberband_canvas = undefined;\n",
       "    this.rubberband_context = undefined;\n",
       "    this.format_dropdown = undefined;\n",
       "\n",
       "    this.image_mode = 'full';\n",
       "\n",
       "    this.root = document.createElement('div');\n",
       "    this.root.setAttribute('style', 'display: inline-block');\n",
       "    this._root_extra_style(this.root);\n",
       "\n",
       "    parent_element.appendChild(this.root);\n",
       "\n",
       "    this._init_header(this);\n",
       "    this._init_canvas(this);\n",
       "    this._init_toolbar(this);\n",
       "\n",
       "    var fig = this;\n",
       "\n",
       "    this.waiting = false;\n",
       "\n",
       "    this.ws.onopen = function () {\n",
       "        fig.send_message('supports_binary', { value: fig.supports_binary });\n",
       "        fig.send_message('send_image_mode', {});\n",
       "        if (fig.ratio !== 1) {\n",
       "            fig.send_message('set_device_pixel_ratio', {\n",
       "                device_pixel_ratio: fig.ratio,\n",
       "            });\n",
       "        }\n",
       "        fig.send_message('refresh', {});\n",
       "    };\n",
       "\n",
       "    this.imageObj.onload = function () {\n",
       "        if (fig.image_mode === 'full') {\n",
       "            // Full images could contain transparency (where diff images\n",
       "            // almost always do), so we need to clear the canvas so that\n",
       "            // there is no ghosting.\n",
       "            fig.context.clearRect(0, 0, fig.canvas.width, fig.canvas.height);\n",
       "        }\n",
       "        fig.context.drawImage(fig.imageObj, 0, 0);\n",
       "    };\n",
       "\n",
       "    this.imageObj.onunload = function () {\n",
       "        fig.ws.close();\n",
       "    };\n",
       "\n",
       "    this.ws.onmessage = this._make_on_message_function(this);\n",
       "\n",
       "    this.ondownload = ondownload;\n",
       "};\n",
       "\n",
       "mpl.figure.prototype._init_header = function () {\n",
       "    var titlebar = document.createElement('div');\n",
       "    titlebar.classList =\n",
       "        'ui-dialog-titlebar ui-widget-header ui-corner-all ui-helper-clearfix';\n",
       "    var titletext = document.createElement('div');\n",
       "    titletext.classList = 'ui-dialog-title';\n",
       "    titletext.setAttribute(\n",
       "        'style',\n",
       "        'width: 100%; text-align: center; padding: 3px;'\n",
       "    );\n",
       "    titlebar.appendChild(titletext);\n",
       "    this.root.appendChild(titlebar);\n",
       "    this.header = titletext;\n",
       "};\n",
       "\n",
       "mpl.figure.prototype._canvas_extra_style = function (_canvas_div) {};\n",
       "\n",
       "mpl.figure.prototype._root_extra_style = function (_canvas_div) {};\n",
       "\n",
       "mpl.figure.prototype._init_canvas = function () {\n",
       "    var fig = this;\n",
       "\n",
       "    var canvas_div = (this.canvas_div = document.createElement('div'));\n",
       "    canvas_div.setAttribute(\n",
       "        'style',\n",
       "        'border: 1px solid #ddd;' +\n",
       "            'box-sizing: content-box;' +\n",
       "            'clear: both;' +\n",
       "            'min-height: 1px;' +\n",
       "            'min-width: 1px;' +\n",
       "            'outline: 0;' +\n",
       "            'overflow: hidden;' +\n",
       "            'position: relative;' +\n",
       "            'resize: both;'\n",
       "    );\n",
       "\n",
       "    function on_keyboard_event_closure(name) {\n",
       "        return function (event) {\n",
       "            return fig.key_event(event, name);\n",
       "        };\n",
       "    }\n",
       "\n",
       "    canvas_div.addEventListener(\n",
       "        'keydown',\n",
       "        on_keyboard_event_closure('key_press')\n",
       "    );\n",
       "    canvas_div.addEventListener(\n",
       "        'keyup',\n",
       "        on_keyboard_event_closure('key_release')\n",
       "    );\n",
       "\n",
       "    this._canvas_extra_style(canvas_div);\n",
       "    this.root.appendChild(canvas_div);\n",
       "\n",
       "    var canvas = (this.canvas = document.createElement('canvas'));\n",
       "    canvas.classList.add('mpl-canvas');\n",
       "    canvas.setAttribute('style', 'box-sizing: content-box;');\n",
       "\n",
       "    this.context = canvas.getContext('2d');\n",
       "\n",
       "    var backingStore =\n",
       "        this.context.backingStorePixelRatio ||\n",
       "        this.context.webkitBackingStorePixelRatio ||\n",
       "        this.context.mozBackingStorePixelRatio ||\n",
       "        this.context.msBackingStorePixelRatio ||\n",
       "        this.context.oBackingStorePixelRatio ||\n",
       "        this.context.backingStorePixelRatio ||\n",
       "        1;\n",
       "\n",
       "    this.ratio = (window.devicePixelRatio || 1) / backingStore;\n",
       "\n",
       "    var rubberband_canvas = (this.rubberband_canvas = document.createElement(\n",
       "        'canvas'\n",
       "    ));\n",
       "    rubberband_canvas.setAttribute(\n",
       "        'style',\n",
       "        'box-sizing: content-box; position: absolute; left: 0; top: 0; z-index: 1;'\n",
       "    );\n",
       "\n",
       "    // Apply a ponyfill if ResizeObserver is not implemented by browser.\n",
       "    if (this.ResizeObserver === undefined) {\n",
       "        if (window.ResizeObserver !== undefined) {\n",
       "            this.ResizeObserver = window.ResizeObserver;\n",
       "        } else {\n",
       "            var obs = _JSXTOOLS_RESIZE_OBSERVER({});\n",
       "            this.ResizeObserver = obs.ResizeObserver;\n",
       "        }\n",
       "    }\n",
       "\n",
       "    this.resizeObserverInstance = new this.ResizeObserver(function (entries) {\n",
       "        var nentries = entries.length;\n",
       "        for (var i = 0; i < nentries; i++) {\n",
       "            var entry = entries[i];\n",
       "            var width, height;\n",
       "            if (entry.contentBoxSize) {\n",
       "                if (entry.contentBoxSize instanceof Array) {\n",
       "                    // Chrome 84 implements new version of spec.\n",
       "                    width = entry.contentBoxSize[0].inlineSize;\n",
       "                    height = entry.contentBoxSize[0].blockSize;\n",
       "                } else {\n",
       "                    // Firefox implements old version of spec.\n",
       "                    width = entry.contentBoxSize.inlineSize;\n",
       "                    height = entry.contentBoxSize.blockSize;\n",
       "                }\n",
       "            } else {\n",
       "                // Chrome <84 implements even older version of spec.\n",
       "                width = entry.contentRect.width;\n",
       "                height = entry.contentRect.height;\n",
       "            }\n",
       "\n",
       "            // Keep the size of the canvas and rubber band canvas in sync with\n",
       "            // the canvas container.\n",
       "            if (entry.devicePixelContentBoxSize) {\n",
       "                // Chrome 84 implements new version of spec.\n",
       "                canvas.setAttribute(\n",
       "                    'width',\n",
       "                    entry.devicePixelContentBoxSize[0].inlineSize\n",
       "                );\n",
       "                canvas.setAttribute(\n",
       "                    'height',\n",
       "                    entry.devicePixelContentBoxSize[0].blockSize\n",
       "                );\n",
       "            } else {\n",
       "                canvas.setAttribute('width', width * fig.ratio);\n",
       "                canvas.setAttribute('height', height * fig.ratio);\n",
       "            }\n",
       "            canvas.setAttribute(\n",
       "                'style',\n",
       "                'width: ' + width + 'px; height: ' + height + 'px;'\n",
       "            );\n",
       "\n",
       "            rubberband_canvas.setAttribute('width', width);\n",
       "            rubberband_canvas.setAttribute('height', height);\n",
       "\n",
       "            // And update the size in Python. We ignore the initial 0/0 size\n",
       "            // that occurs as the element is placed into the DOM, which should\n",
       "            // otherwise not happen due to the minimum size styling.\n",
       "            if (fig.ws.readyState == 1 && width != 0 && height != 0) {\n",
       "                fig.request_resize(width, height);\n",
       "            }\n",
       "        }\n",
       "    });\n",
       "    this.resizeObserverInstance.observe(canvas_div);\n",
       "\n",
       "    function on_mouse_event_closure(name) {\n",
       "        return function (event) {\n",
       "            return fig.mouse_event(event, name);\n",
       "        };\n",
       "    }\n",
       "\n",
       "    rubberband_canvas.addEventListener(\n",
       "        'mousedown',\n",
       "        on_mouse_event_closure('button_press')\n",
       "    );\n",
       "    rubberband_canvas.addEventListener(\n",
       "        'mouseup',\n",
       "        on_mouse_event_closure('button_release')\n",
       "    );\n",
       "    rubberband_canvas.addEventListener(\n",
       "        'dblclick',\n",
       "        on_mouse_event_closure('dblclick')\n",
       "    );\n",
       "    // Throttle sequential mouse events to 1 every 20ms.\n",
       "    rubberband_canvas.addEventListener(\n",
       "        'mousemove',\n",
       "        on_mouse_event_closure('motion_notify')\n",
       "    );\n",
       "\n",
       "    rubberband_canvas.addEventListener(\n",
       "        'mouseenter',\n",
       "        on_mouse_event_closure('figure_enter')\n",
       "    );\n",
       "    rubberband_canvas.addEventListener(\n",
       "        'mouseleave',\n",
       "        on_mouse_event_closure('figure_leave')\n",
       "    );\n",
       "\n",
       "    canvas_div.addEventListener('wheel', function (event) {\n",
       "        if (event.deltaY < 0) {\n",
       "            event.step = 1;\n",
       "        } else {\n",
       "            event.step = -1;\n",
       "        }\n",
       "        on_mouse_event_closure('scroll')(event);\n",
       "    });\n",
       "\n",
       "    canvas_div.appendChild(canvas);\n",
       "    canvas_div.appendChild(rubberband_canvas);\n",
       "\n",
       "    this.rubberband_context = rubberband_canvas.getContext('2d');\n",
       "    this.rubberband_context.strokeStyle = '#000000';\n",
       "\n",
       "    this._resize_canvas = function (width, height, forward) {\n",
       "        if (forward) {\n",
       "            canvas_div.style.width = width + 'px';\n",
       "            canvas_div.style.height = height + 'px';\n",
       "        }\n",
       "    };\n",
       "\n",
       "    // Disable right mouse context menu.\n",
       "    this.rubberband_canvas.addEventListener('contextmenu', function (_e) {\n",
       "        event.preventDefault();\n",
       "        return false;\n",
       "    });\n",
       "\n",
       "    function set_focus() {\n",
       "        canvas.focus();\n",
       "        canvas_div.focus();\n",
       "    }\n",
       "\n",
       "    window.setTimeout(set_focus, 100);\n",
       "};\n",
       "\n",
       "mpl.figure.prototype._init_toolbar = function () {\n",
       "    var fig = this;\n",
       "\n",
       "    var toolbar = document.createElement('div');\n",
       "    toolbar.classList = 'mpl-toolbar';\n",
       "    this.root.appendChild(toolbar);\n",
       "\n",
       "    function on_click_closure(name) {\n",
       "        return function (_event) {\n",
       "            return fig.toolbar_button_onclick(name);\n",
       "        };\n",
       "    }\n",
       "\n",
       "    function on_mouseover_closure(tooltip) {\n",
       "        return function (event) {\n",
       "            if (!event.currentTarget.disabled) {\n",
       "                return fig.toolbar_button_onmouseover(tooltip);\n",
       "            }\n",
       "        };\n",
       "    }\n",
       "\n",
       "    fig.buttons = {};\n",
       "    var buttonGroup = document.createElement('div');\n",
       "    buttonGroup.classList = 'mpl-button-group';\n",
       "    for (var toolbar_ind in mpl.toolbar_items) {\n",
       "        var name = mpl.toolbar_items[toolbar_ind][0];\n",
       "        var tooltip = mpl.toolbar_items[toolbar_ind][1];\n",
       "        var image = mpl.toolbar_items[toolbar_ind][2];\n",
       "        var method_name = mpl.toolbar_items[toolbar_ind][3];\n",
       "\n",
       "        if (!name) {\n",
       "            /* Instead of a spacer, we start a new button group. */\n",
       "            if (buttonGroup.hasChildNodes()) {\n",
       "                toolbar.appendChild(buttonGroup);\n",
       "            }\n",
       "            buttonGroup = document.createElement('div');\n",
       "            buttonGroup.classList = 'mpl-button-group';\n",
       "            continue;\n",
       "        }\n",
       "\n",
       "        var button = (fig.buttons[name] = document.createElement('button'));\n",
       "        button.classList = 'mpl-widget';\n",
       "        button.setAttribute('role', 'button');\n",
       "        button.setAttribute('aria-disabled', 'false');\n",
       "        button.addEventListener('click', on_click_closure(method_name));\n",
       "        button.addEventListener('mouseover', on_mouseover_closure(tooltip));\n",
       "\n",
       "        var icon_img = document.createElement('img');\n",
       "        icon_img.src = '_images/' + image + '.png';\n",
       "        icon_img.srcset = '_images/' + image + '_large.png 2x';\n",
       "        icon_img.alt = tooltip;\n",
       "        button.appendChild(icon_img);\n",
       "\n",
       "        buttonGroup.appendChild(button);\n",
       "    }\n",
       "\n",
       "    if (buttonGroup.hasChildNodes()) {\n",
       "        toolbar.appendChild(buttonGroup);\n",
       "    }\n",
       "\n",
       "    var fmt_picker = document.createElement('select');\n",
       "    fmt_picker.classList = 'mpl-widget';\n",
       "    toolbar.appendChild(fmt_picker);\n",
       "    this.format_dropdown = fmt_picker;\n",
       "\n",
       "    for (var ind in mpl.extensions) {\n",
       "        var fmt = mpl.extensions[ind];\n",
       "        var option = document.createElement('option');\n",
       "        option.selected = fmt === mpl.default_extension;\n",
       "        option.innerHTML = fmt;\n",
       "        fmt_picker.appendChild(option);\n",
       "    }\n",
       "\n",
       "    var status_bar = document.createElement('span');\n",
       "    status_bar.classList = 'mpl-message';\n",
       "    toolbar.appendChild(status_bar);\n",
       "    this.message = status_bar;\n",
       "};\n",
       "\n",
       "mpl.figure.prototype.request_resize = function (x_pixels, y_pixels) {\n",
       "    // Request matplotlib to resize the figure. Matplotlib will then trigger a resize in the client,\n",
       "    // which will in turn request a refresh of the image.\n",
       "    this.send_message('resize', { width: x_pixels, height: y_pixels });\n",
       "};\n",
       "\n",
       "mpl.figure.prototype.send_message = function (type, properties) {\n",
       "    properties['type'] = type;\n",
       "    properties['figure_id'] = this.id;\n",
       "    this.ws.send(JSON.stringify(properties));\n",
       "};\n",
       "\n",
       "mpl.figure.prototype.send_draw_message = function () {\n",
       "    if (!this.waiting) {\n",
       "        this.waiting = true;\n",
       "        this.ws.send(JSON.stringify({ type: 'draw', figure_id: this.id }));\n",
       "    }\n",
       "};\n",
       "\n",
       "mpl.figure.prototype.handle_save = function (fig, _msg) {\n",
       "    var format_dropdown = fig.format_dropdown;\n",
       "    var format = format_dropdown.options[format_dropdown.selectedIndex].value;\n",
       "    fig.ondownload(fig, format);\n",
       "};\n",
       "\n",
       "mpl.figure.prototype.handle_resize = function (fig, msg) {\n",
       "    var size = msg['size'];\n",
       "    if (size[0] !== fig.canvas.width || size[1] !== fig.canvas.height) {\n",
       "        fig._resize_canvas(size[0], size[1], msg['forward']);\n",
       "        fig.send_message('refresh', {});\n",
       "    }\n",
       "};\n",
       "\n",
       "mpl.figure.prototype.handle_rubberband = function (fig, msg) {\n",
       "    var x0 = msg['x0'] / fig.ratio;\n",
       "    var y0 = (fig.canvas.height - msg['y0']) / fig.ratio;\n",
       "    var x1 = msg['x1'] / fig.ratio;\n",
       "    var y1 = (fig.canvas.height - msg['y1']) / fig.ratio;\n",
       "    x0 = Math.floor(x0) + 0.5;\n",
       "    y0 = Math.floor(y0) + 0.5;\n",
       "    x1 = Math.floor(x1) + 0.5;\n",
       "    y1 = Math.floor(y1) + 0.5;\n",
       "    var min_x = Math.min(x0, x1);\n",
       "    var min_y = Math.min(y0, y1);\n",
       "    var width = Math.abs(x1 - x0);\n",
       "    var height = Math.abs(y1 - y0);\n",
       "\n",
       "    fig.rubberband_context.clearRect(\n",
       "        0,\n",
       "        0,\n",
       "        fig.canvas.width / fig.ratio,\n",
       "        fig.canvas.height / fig.ratio\n",
       "    );\n",
       "\n",
       "    fig.rubberband_context.strokeRect(min_x, min_y, width, height);\n",
       "};\n",
       "\n",
       "mpl.figure.prototype.handle_figure_label = function (fig, msg) {\n",
       "    // Updates the figure title.\n",
       "    fig.header.textContent = msg['label'];\n",
       "};\n",
       "\n",
       "mpl.figure.prototype.handle_cursor = function (fig, msg) {\n",
       "    fig.rubberband_canvas.style.cursor = msg['cursor'];\n",
       "};\n",
       "\n",
       "mpl.figure.prototype.handle_message = function (fig, msg) {\n",
       "    fig.message.textContent = msg['message'];\n",
       "};\n",
       "\n",
       "mpl.figure.prototype.handle_draw = function (fig, _msg) {\n",
       "    // Request the server to send over a new figure.\n",
       "    fig.send_draw_message();\n",
       "};\n",
       "\n",
       "mpl.figure.prototype.handle_image_mode = function (fig, msg) {\n",
       "    fig.image_mode = msg['mode'];\n",
       "};\n",
       "\n",
       "mpl.figure.prototype.handle_history_buttons = function (fig, msg) {\n",
       "    for (var key in msg) {\n",
       "        if (!(key in fig.buttons)) {\n",
       "            continue;\n",
       "        }\n",
       "        fig.buttons[key].disabled = !msg[key];\n",
       "        fig.buttons[key].setAttribute('aria-disabled', !msg[key]);\n",
       "    }\n",
       "};\n",
       "\n",
       "mpl.figure.prototype.handle_navigate_mode = function (fig, msg) {\n",
       "    if (msg['mode'] === 'PAN') {\n",
       "        fig.buttons['Pan'].classList.add('active');\n",
       "        fig.buttons['Zoom'].classList.remove('active');\n",
       "    } else if (msg['mode'] === 'ZOOM') {\n",
       "        fig.buttons['Pan'].classList.remove('active');\n",
       "        fig.buttons['Zoom'].classList.add('active');\n",
       "    } else {\n",
       "        fig.buttons['Pan'].classList.remove('active');\n",
       "        fig.buttons['Zoom'].classList.remove('active');\n",
       "    }\n",
       "};\n",
       "\n",
       "mpl.figure.prototype.updated_canvas_event = function () {\n",
       "    // Called whenever the canvas gets updated.\n",
       "    this.send_message('ack', {});\n",
       "};\n",
       "\n",
       "// A function to construct a web socket function for onmessage handling.\n",
       "// Called in the figure constructor.\n",
       "mpl.figure.prototype._make_on_message_function = function (fig) {\n",
       "    return function socket_on_message(evt) {\n",
       "        if (evt.data instanceof Blob) {\n",
       "            var img = evt.data;\n",
       "            if (img.type !== 'image/png') {\n",
       "                /* FIXME: We get \"Resource interpreted as Image but\n",
       "                 * transferred with MIME type text/plain:\" errors on\n",
       "                 * Chrome.  But how to set the MIME type?  It doesn't seem\n",
       "                 * to be part of the websocket stream */\n",
       "                img.type = 'image/png';\n",
       "            }\n",
       "\n",
       "            /* Free the memory for the previous frames */\n",
       "            if (fig.imageObj.src) {\n",
       "                (window.URL || window.webkitURL).revokeObjectURL(\n",
       "                    fig.imageObj.src\n",
       "                );\n",
       "            }\n",
       "\n",
       "            fig.imageObj.src = (window.URL || window.webkitURL).createObjectURL(\n",
       "                img\n",
       "            );\n",
       "            fig.updated_canvas_event();\n",
       "            fig.waiting = false;\n",
       "            return;\n",
       "        } else if (\n",
       "            typeof evt.data === 'string' &&\n",
       "            evt.data.slice(0, 21) === 'data:image/png;base64'\n",
       "        ) {\n",
       "            fig.imageObj.src = evt.data;\n",
       "            fig.updated_canvas_event();\n",
       "            fig.waiting = false;\n",
       "            return;\n",
       "        }\n",
       "\n",
       "        var msg = JSON.parse(evt.data);\n",
       "        var msg_type = msg['type'];\n",
       "\n",
       "        // Call the  \"handle_{type}\" callback, which takes\n",
       "        // the figure and JSON message as its only arguments.\n",
       "        try {\n",
       "            var callback = fig['handle_' + msg_type];\n",
       "        } catch (e) {\n",
       "            console.log(\n",
       "                \"No handler for the '\" + msg_type + \"' message type: \",\n",
       "                msg\n",
       "            );\n",
       "            return;\n",
       "        }\n",
       "\n",
       "        if (callback) {\n",
       "            try {\n",
       "                // console.log(\"Handling '\" + msg_type + \"' message: \", msg);\n",
       "                callback(fig, msg);\n",
       "            } catch (e) {\n",
       "                console.log(\n",
       "                    \"Exception inside the 'handler_\" + msg_type + \"' callback:\",\n",
       "                    e,\n",
       "                    e.stack,\n",
       "                    msg\n",
       "                );\n",
       "            }\n",
       "        }\n",
       "    };\n",
       "};\n",
       "\n",
       "// from https://stackoverflow.com/questions/1114465/getting-mouse-location-in-canvas\n",
       "mpl.findpos = function (e) {\n",
       "    //this section is from http://www.quirksmode.org/js/events_properties.html\n",
       "    var targ;\n",
       "    if (!e) {\n",
       "        e = window.event;\n",
       "    }\n",
       "    if (e.target) {\n",
       "        targ = e.target;\n",
       "    } else if (e.srcElement) {\n",
       "        targ = e.srcElement;\n",
       "    }\n",
       "    if (targ.nodeType === 3) {\n",
       "        // defeat Safari bug\n",
       "        targ = targ.parentNode;\n",
       "    }\n",
       "\n",
       "    // pageX,Y are the mouse positions relative to the document\n",
       "    var boundingRect = targ.getBoundingClientRect();\n",
       "    var x = e.pageX - (boundingRect.left + document.body.scrollLeft);\n",
       "    var y = e.pageY - (boundingRect.top + document.body.scrollTop);\n",
       "\n",
       "    return { x: x, y: y };\n",
       "};\n",
       "\n",
       "/*\n",
       " * return a copy of an object with only non-object keys\n",
       " * we need this to avoid circular references\n",
       " * https://stackoverflow.com/a/24161582/3208463\n",
       " */\n",
       "function simpleKeys(original) {\n",
       "    return Object.keys(original).reduce(function (obj, key) {\n",
       "        if (typeof original[key] !== 'object') {\n",
       "            obj[key] = original[key];\n",
       "        }\n",
       "        return obj;\n",
       "    }, {});\n",
       "}\n",
       "\n",
       "mpl.figure.prototype.mouse_event = function (event, name) {\n",
       "    var canvas_pos = mpl.findpos(event);\n",
       "\n",
       "    if (name === 'button_press') {\n",
       "        this.canvas.focus();\n",
       "        this.canvas_div.focus();\n",
       "    }\n",
       "\n",
       "    var x = canvas_pos.x * this.ratio;\n",
       "    var y = canvas_pos.y * this.ratio;\n",
       "\n",
       "    this.send_message(name, {\n",
       "        x: x,\n",
       "        y: y,\n",
       "        button: event.button,\n",
       "        step: event.step,\n",
       "        guiEvent: simpleKeys(event),\n",
       "    });\n",
       "\n",
       "    /* This prevents the web browser from automatically changing to\n",
       "     * the text insertion cursor when the button is pressed.  We want\n",
       "     * to control all of the cursor setting manually through the\n",
       "     * 'cursor' event from matplotlib */\n",
       "    event.preventDefault();\n",
       "    return false;\n",
       "};\n",
       "\n",
       "mpl.figure.prototype._key_event_extra = function (_event, _name) {\n",
       "    // Handle any extra behaviour associated with a key event\n",
       "};\n",
       "\n",
       "mpl.figure.prototype.key_event = function (event, name) {\n",
       "    // Prevent repeat events\n",
       "    if (name === 'key_press') {\n",
       "        if (event.key === this._key) {\n",
       "            return;\n",
       "        } else {\n",
       "            this._key = event.key;\n",
       "        }\n",
       "    }\n",
       "    if (name === 'key_release') {\n",
       "        this._key = null;\n",
       "    }\n",
       "\n",
       "    var value = '';\n",
       "    if (event.ctrlKey && event.key !== 'Control') {\n",
       "        value += 'ctrl+';\n",
       "    }\n",
       "    else if (event.altKey && event.key !== 'Alt') {\n",
       "        value += 'alt+';\n",
       "    }\n",
       "    else if (event.shiftKey && event.key !== 'Shift') {\n",
       "        value += 'shift+';\n",
       "    }\n",
       "\n",
       "    value += 'k' + event.key;\n",
       "\n",
       "    this._key_event_extra(event, name);\n",
       "\n",
       "    this.send_message(name, { key: value, guiEvent: simpleKeys(event) });\n",
       "    return false;\n",
       "};\n",
       "\n",
       "mpl.figure.prototype.toolbar_button_onclick = function (name) {\n",
       "    if (name === 'download') {\n",
       "        this.handle_save(this, null);\n",
       "    } else {\n",
       "        this.send_message('toolbar_button', { name: name });\n",
       "    }\n",
       "};\n",
       "\n",
       "mpl.figure.prototype.toolbar_button_onmouseover = function (tooltip) {\n",
       "    this.message.textContent = tooltip;\n",
       "};\n",
       "\n",
       "///////////////// REMAINING CONTENT GENERATED BY embed_js.py /////////////////\n",
       "// prettier-ignore\n",
       "var _JSXTOOLS_RESIZE_OBSERVER=function(A){var t,i=new WeakMap,n=new WeakMap,a=new WeakMap,r=new WeakMap,o=new Set;function s(e){if(!(this instanceof s))throw new TypeError(\"Constructor requires 'new' operator\");i.set(this,e)}function h(){throw new TypeError(\"Function is not a constructor\")}function c(e,t,i,n){e=0 in arguments?Number(arguments[0]):0,t=1 in arguments?Number(arguments[1]):0,i=2 in arguments?Number(arguments[2]):0,n=3 in arguments?Number(arguments[3]):0,this.right=(this.x=this.left=e)+(this.width=i),this.bottom=(this.y=this.top=t)+(this.height=n),Object.freeze(this)}function d(){t=requestAnimationFrame(d);var s=new WeakMap,p=new Set;o.forEach((function(t){r.get(t).forEach((function(i){var r=t instanceof window.SVGElement,o=a.get(t),d=r?0:parseFloat(o.paddingTop),f=r?0:parseFloat(o.paddingRight),l=r?0:parseFloat(o.paddingBottom),u=r?0:parseFloat(o.paddingLeft),g=r?0:parseFloat(o.borderTopWidth),m=r?0:parseFloat(o.borderRightWidth),w=r?0:parseFloat(o.borderBottomWidth),b=u+f,F=d+l,v=(r?0:parseFloat(o.borderLeftWidth))+m,W=g+w,y=r?0:t.offsetHeight-W-t.clientHeight,E=r?0:t.offsetWidth-v-t.clientWidth,R=b+v,z=F+W,M=r?t.width:parseFloat(o.width)-R-E,O=r?t.height:parseFloat(o.height)-z-y;if(n.has(t)){var k=n.get(t);if(k[0]===M&&k[1]===O)return}n.set(t,[M,O]);var S=Object.create(h.prototype);S.target=t,S.contentRect=new c(u,d,M,O),s.has(i)||(s.set(i,[]),p.add(i)),s.get(i).push(S)}))})),p.forEach((function(e){i.get(e).call(e,s.get(e),e)}))}return s.prototype.observe=function(i){if(i instanceof window.Element){r.has(i)||(r.set(i,new Set),o.add(i),a.set(i,window.getComputedStyle(i)));var n=r.get(i);n.has(this)||n.add(this),cancelAnimationFrame(t),t=requestAnimationFrame(d)}},s.prototype.unobserve=function(i){if(i instanceof window.Element&&r.has(i)){var n=r.get(i);n.has(this)&&(n.delete(this),n.size||(r.delete(i),o.delete(i))),n.size||r.delete(i),o.size||cancelAnimationFrame(t)}},A.DOMRectReadOnly=c,A.ResizeObserver=s,A.ResizeObserverEntry=h,A}; // eslint-disable-line\n",
       "mpl.toolbar_items = [[\"Home\", \"Reset original view\", \"fa fa-home icon-home\", \"home\"], [\"Back\", \"Back to previous view\", \"fa fa-arrow-left icon-arrow-left\", \"back\"], [\"Forward\", \"Forward to next view\", \"fa fa-arrow-right icon-arrow-right\", \"forward\"], [\"\", \"\", \"\", \"\"], [\"Pan\", \"Left button pans, Right button zooms\\nx/y fixes axis, CTRL fixes aspect\", \"fa fa-arrows icon-move\", \"pan\"], [\"Zoom\", \"Zoom to rectangle\\nx/y fixes axis\", \"fa fa-square-o icon-check-empty\", \"zoom\"], [\"\", \"\", \"\", \"\"], [\"Download\", \"Download plot\", \"fa fa-floppy-o icon-save\", \"download\"]];\n",
       "\n",
       "mpl.extensions = [\"eps\", \"jpeg\", \"pgf\", \"pdf\", \"png\", \"ps\", \"raw\", \"svg\", \"tif\"];\n",
       "\n",
       "mpl.default_extension = \"png\";/* global mpl */\n",
       "\n",
       "var comm_websocket_adapter = function (comm) {\n",
       "    // Create a \"websocket\"-like object which calls the given IPython comm\n",
       "    // object with the appropriate methods. Currently this is a non binary\n",
       "    // socket, so there is still some room for performance tuning.\n",
       "    var ws = {};\n",
       "\n",
       "    ws.binaryType = comm.kernel.ws.binaryType;\n",
       "    ws.readyState = comm.kernel.ws.readyState;\n",
       "    function updateReadyState(_event) {\n",
       "        if (comm.kernel.ws) {\n",
       "            ws.readyState = comm.kernel.ws.readyState;\n",
       "        } else {\n",
       "            ws.readyState = 3; // Closed state.\n",
       "        }\n",
       "    }\n",
       "    comm.kernel.ws.addEventListener('open', updateReadyState);\n",
       "    comm.kernel.ws.addEventListener('close', updateReadyState);\n",
       "    comm.kernel.ws.addEventListener('error', updateReadyState);\n",
       "\n",
       "    ws.close = function () {\n",
       "        comm.close();\n",
       "    };\n",
       "    ws.send = function (m) {\n",
       "        //console.log('sending', m);\n",
       "        comm.send(m);\n",
       "    };\n",
       "    // Register the callback with on_msg.\n",
       "    comm.on_msg(function (msg) {\n",
       "        //console.log('receiving', msg['content']['data'], msg);\n",
       "        var data = msg['content']['data'];\n",
       "        if (data['blob'] !== undefined) {\n",
       "            data = {\n",
       "                data: new Blob(msg['buffers'], { type: data['blob'] }),\n",
       "            };\n",
       "        }\n",
       "        // Pass the mpl event to the overridden (by mpl) onmessage function.\n",
       "        ws.onmessage(data);\n",
       "    });\n",
       "    return ws;\n",
       "};\n",
       "\n",
       "mpl.mpl_figure_comm = function (comm, msg) {\n",
       "    // This is the function which gets called when the mpl process\n",
       "    // starts-up an IPython Comm through the \"matplotlib\" channel.\n",
       "\n",
       "    var id = msg.content.data.id;\n",
       "    // Get hold of the div created by the display call when the Comm\n",
       "    // socket was opened in Python.\n",
       "    var element = document.getElementById(id);\n",
       "    var ws_proxy = comm_websocket_adapter(comm);\n",
       "\n",
       "    function ondownload(figure, _format) {\n",
       "        window.open(figure.canvas.toDataURL());\n",
       "    }\n",
       "\n",
       "    var fig = new mpl.figure(id, ws_proxy, ondownload, element);\n",
       "\n",
       "    // Call onopen now - mpl needs it, as it is assuming we've passed it a real\n",
       "    // web socket which is closed, not our websocket->open comm proxy.\n",
       "    ws_proxy.onopen();\n",
       "\n",
       "    fig.parent_element = element;\n",
       "    fig.cell_info = mpl.find_output_cell(\"<div id='\" + id + \"'></div>\");\n",
       "    if (!fig.cell_info) {\n",
       "        console.error('Failed to find cell for figure', id, fig);\n",
       "        return;\n",
       "    }\n",
       "    fig.cell_info[0].output_area.element.on(\n",
       "        'cleared',\n",
       "        { fig: fig },\n",
       "        fig._remove_fig_handler\n",
       "    );\n",
       "};\n",
       "\n",
       "mpl.figure.prototype.handle_close = function (fig, msg) {\n",
       "    var width = fig.canvas.width / fig.ratio;\n",
       "    fig.cell_info[0].output_area.element.off(\n",
       "        'cleared',\n",
       "        fig._remove_fig_handler\n",
       "    );\n",
       "    fig.resizeObserverInstance.unobserve(fig.canvas_div);\n",
       "\n",
       "    // Update the output cell to use the data from the current canvas.\n",
       "    fig.push_to_output();\n",
       "    var dataURL = fig.canvas.toDataURL();\n",
       "    // Re-enable the keyboard manager in IPython - without this line, in FF,\n",
       "    // the notebook keyboard shortcuts fail.\n",
       "    IPython.keyboard_manager.enable();\n",
       "    fig.parent_element.innerHTML =\n",
       "        '<img src=\"' + dataURL + '\" width=\"' + width + '\">';\n",
       "    fig.close_ws(fig, msg);\n",
       "};\n",
       "\n",
       "mpl.figure.prototype.close_ws = function (fig, msg) {\n",
       "    fig.send_message('closing', msg);\n",
       "    // fig.ws.close()\n",
       "};\n",
       "\n",
       "mpl.figure.prototype.push_to_output = function (_remove_interactive) {\n",
       "    // Turn the data on the canvas into data in the output cell.\n",
       "    var width = this.canvas.width / this.ratio;\n",
       "    var dataURL = this.canvas.toDataURL();\n",
       "    this.cell_info[1]['text/html'] =\n",
       "        '<img src=\"' + dataURL + '\" width=\"' + width + '\">';\n",
       "};\n",
       "\n",
       "mpl.figure.prototype.updated_canvas_event = function () {\n",
       "    // Tell IPython that the notebook contents must change.\n",
       "    IPython.notebook.set_dirty(true);\n",
       "    this.send_message('ack', {});\n",
       "    var fig = this;\n",
       "    // Wait a second, then push the new image to the DOM so\n",
       "    // that it is saved nicely (might be nice to debounce this).\n",
       "    setTimeout(function () {\n",
       "        fig.push_to_output();\n",
       "    }, 1000);\n",
       "};\n",
       "\n",
       "mpl.figure.prototype._init_toolbar = function () {\n",
       "    var fig = this;\n",
       "\n",
       "    var toolbar = document.createElement('div');\n",
       "    toolbar.classList = 'btn-toolbar';\n",
       "    this.root.appendChild(toolbar);\n",
       "\n",
       "    function on_click_closure(name) {\n",
       "        return function (_event) {\n",
       "            return fig.toolbar_button_onclick(name);\n",
       "        };\n",
       "    }\n",
       "\n",
       "    function on_mouseover_closure(tooltip) {\n",
       "        return function (event) {\n",
       "            if (!event.currentTarget.disabled) {\n",
       "                return fig.toolbar_button_onmouseover(tooltip);\n",
       "            }\n",
       "        };\n",
       "    }\n",
       "\n",
       "    fig.buttons = {};\n",
       "    var buttonGroup = document.createElement('div');\n",
       "    buttonGroup.classList = 'btn-group';\n",
       "    var button;\n",
       "    for (var toolbar_ind in mpl.toolbar_items) {\n",
       "        var name = mpl.toolbar_items[toolbar_ind][0];\n",
       "        var tooltip = mpl.toolbar_items[toolbar_ind][1];\n",
       "        var image = mpl.toolbar_items[toolbar_ind][2];\n",
       "        var method_name = mpl.toolbar_items[toolbar_ind][3];\n",
       "\n",
       "        if (!name) {\n",
       "            /* Instead of a spacer, we start a new button group. */\n",
       "            if (buttonGroup.hasChildNodes()) {\n",
       "                toolbar.appendChild(buttonGroup);\n",
       "            }\n",
       "            buttonGroup = document.createElement('div');\n",
       "            buttonGroup.classList = 'btn-group';\n",
       "            continue;\n",
       "        }\n",
       "\n",
       "        button = fig.buttons[name] = document.createElement('button');\n",
       "        button.classList = 'btn btn-default';\n",
       "        button.href = '#';\n",
       "        button.title = name;\n",
       "        button.innerHTML = '<i class=\"fa ' + image + ' fa-lg\"></i>';\n",
       "        button.addEventListener('click', on_click_closure(method_name));\n",
       "        button.addEventListener('mouseover', on_mouseover_closure(tooltip));\n",
       "        buttonGroup.appendChild(button);\n",
       "    }\n",
       "\n",
       "    if (buttonGroup.hasChildNodes()) {\n",
       "        toolbar.appendChild(buttonGroup);\n",
       "    }\n",
       "\n",
       "    // Add the status bar.\n",
       "    var status_bar = document.createElement('span');\n",
       "    status_bar.classList = 'mpl-message pull-right';\n",
       "    toolbar.appendChild(status_bar);\n",
       "    this.message = status_bar;\n",
       "\n",
       "    // Add the close button to the window.\n",
       "    var buttongrp = document.createElement('div');\n",
       "    buttongrp.classList = 'btn-group inline pull-right';\n",
       "    button = document.createElement('button');\n",
       "    button.classList = 'btn btn-mini btn-primary';\n",
       "    button.href = '#';\n",
       "    button.title = 'Stop Interaction';\n",
       "    button.innerHTML = '<i class=\"fa fa-power-off icon-remove icon-large\"></i>';\n",
       "    button.addEventListener('click', function (_evt) {\n",
       "        fig.handle_close(fig, {});\n",
       "    });\n",
       "    button.addEventListener(\n",
       "        'mouseover',\n",
       "        on_mouseover_closure('Stop Interaction')\n",
       "    );\n",
       "    buttongrp.appendChild(button);\n",
       "    var titlebar = this.root.querySelector('.ui-dialog-titlebar');\n",
       "    titlebar.insertBefore(buttongrp, titlebar.firstChild);\n",
       "};\n",
       "\n",
       "mpl.figure.prototype._remove_fig_handler = function (event) {\n",
       "    var fig = event.data.fig;\n",
       "    if (event.target !== this) {\n",
       "        // Ignore bubbled events from children.\n",
       "        return;\n",
       "    }\n",
       "    fig.close_ws(fig, {});\n",
       "};\n",
       "\n",
       "mpl.figure.prototype._root_extra_style = function (el) {\n",
       "    el.style.boxSizing = 'content-box'; // override notebook setting of border-box.\n",
       "};\n",
       "\n",
       "mpl.figure.prototype._canvas_extra_style = function (el) {\n",
       "    // this is important to make the div 'focusable\n",
       "    el.setAttribute('tabindex', 0);\n",
       "    // reach out to IPython and tell the keyboard manager to turn it's self\n",
       "    // off when our div gets focus\n",
       "\n",
       "    // location in version 3\n",
       "    if (IPython.notebook.keyboard_manager) {\n",
       "        IPython.notebook.keyboard_manager.register_events(el);\n",
       "    } else {\n",
       "        // location in version 2\n",
       "        IPython.keyboard_manager.register_events(el);\n",
       "    }\n",
       "};\n",
       "\n",
       "mpl.figure.prototype._key_event_extra = function (event, _name) {\n",
       "    // Check for shift+enter\n",
       "    if (event.shiftKey && event.which === 13) {\n",
       "        this.canvas_div.blur();\n",
       "        // select the cell after this one\n",
       "        var index = IPython.notebook.find_cell_index(this.cell_info[0]);\n",
       "        IPython.notebook.select(index + 1);\n",
       "    }\n",
       "};\n",
       "\n",
       "mpl.figure.prototype.handle_save = function (fig, _msg) {\n",
       "    fig.ondownload(fig, null);\n",
       "};\n",
       "\n",
       "mpl.find_output_cell = function (html_output) {\n",
       "    // Return the cell and output element which can be found *uniquely* in the notebook.\n",
       "    // Note - this is a bit hacky, but it is done because the \"notebook_saving.Notebook\"\n",
       "    // IPython event is triggered only after the cells have been serialised, which for\n",
       "    // our purposes (turning an active figure into a static one), is too late.\n",
       "    var cells = IPython.notebook.get_cells();\n",
       "    var ncells = cells.length;\n",
       "    for (var i = 0; i < ncells; i++) {\n",
       "        var cell = cells[i];\n",
       "        if (cell.cell_type === 'code') {\n",
       "            for (var j = 0; j < cell.output_area.outputs.length; j++) {\n",
       "                var data = cell.output_area.outputs[j];\n",
       "                if (data.data) {\n",
       "                    // IPython >= 3 moved mimebundle to data attribute of output\n",
       "                    data = data.data;\n",
       "                }\n",
       "                if (data['text/html'] === html_output) {\n",
       "                    return [cell, data, j];\n",
       "                }\n",
       "            }\n",
       "        }\n",
       "    }\n",
       "};\n",
       "\n",
       "// Register the function which deals with the matplotlib target/channel.\n",
       "// The kernel may be null if the page has been refreshed.\n",
       "if (IPython.notebook.kernel !== null) {\n",
       "    IPython.notebook.kernel.comm_manager.register_target(\n",
       "        'matplotlib',\n",
       "        mpl.mpl_figure_comm\n",
       "    );\n",
       "}\n"
      ],
      "text/plain": [
       "<IPython.core.display.Javascript object>"
      ]
     },
     "metadata": {},
     "output_type": "display_data"
    },
    {
     "data": {
      "text/html": [
       "<img src=\"data:image/png;base64,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\" width=\"628.6666666666666\">"
      ],
      "text/plain": [
       "<IPython.core.display.HTML object>"
      ]
     },
     "metadata": {},
     "output_type": "display_data"
    }
   ],
   "source": [
    "figure, axes = plt.subplots(nrows=4, ncols=6, figsize=(6, 4))"
   ]
  },
  {
   "cell_type": "code",
   "execution_count": 49,
   "id": "0e868608",
   "metadata": {},
   "outputs": [],
   "source": [
    "for item in zip(axes.ravel(), digits.images, digits.target):\n",
    "    axes, image, target = item\n",
    "    axes.imshow(image, cmap=plt.cm.gray_r)\n",
    "    axes.set_xticks([]) # Удаление делений на оси x\n",
    "    axes.set_yticks([]) # Удаление делений на оси y\n",
    "    axes.set_title(target)\n",
    "plt.tight_layout()"
   ]
  },
  {
   "cell_type": "markdown",
   "id": "40a23f75",
   "metadata": {},
   "source": [
    "### Разбиение данных для обучения и тестирования"
   ]
  },
  {
   "cell_type": "code",
   "execution_count": 11,
   "id": "2bd7c110",
   "metadata": {},
   "outputs": [],
   "source": [
    "from sklearn.model_selection import train_test_split"
   ]
  },
  {
   "cell_type": "code",
   "execution_count": 12,
   "id": "98274158",
   "metadata": {},
   "outputs": [],
   "source": [
    "X_train, X_test, y_train, y_test = train_test_split(\n",
    "     digits.data, digits.target, random_state=11)"
   ]
  },
  {
   "cell_type": "markdown",
   "id": "f2399b94",
   "metadata": {},
   "source": [
    "### Размеры обучающего и тестового наборов"
   ]
  },
  {
   "cell_type": "code",
   "execution_count": 13,
   "id": "fbd115b0",
   "metadata": {},
   "outputs": [
    {
     "data": {
      "text/plain": [
       "(1347, 64)"
      ]
     },
     "execution_count": 13,
     "metadata": {},
     "output_type": "execute_result"
    }
   ],
   "source": [
    "X_train.shape"
   ]
  },
  {
   "cell_type": "code",
   "execution_count": 14,
   "id": "59c97b60",
   "metadata": {},
   "outputs": [
    {
     "data": {
      "text/plain": [
       "(450, 64)"
      ]
     },
     "execution_count": 14,
     "metadata": {},
     "output_type": "execute_result"
    }
   ],
   "source": [
    "X_test.shape"
   ]
  },
  {
   "cell_type": "markdown",
   "id": "4242ee95",
   "metadata": {},
   "source": [
    "### Создание модели"
   ]
  },
  {
   "cell_type": "markdown",
   "id": "f01b2da9",
   "metadata": {},
   "source": [
    "Оценщик KNeighborsClassifier (модуль sklearn.neighbors) реализует алгоритм k ближайших соседей. Сначала создается объект оценщика KNeighborsClassifier:"
   ]
  },
  {
   "cell_type": "code",
   "execution_count": 15,
   "id": "97f75a1c",
   "metadata": {},
   "outputs": [],
   "source": [
    "from sklearn.neighbors import KNeighborsClassifier"
   ]
  },
  {
   "cell_type": "code",
   "execution_count": 16,
   "id": "27753c25",
   "metadata": {},
   "outputs": [],
   "source": [
    "knn = KNeighborsClassifier()"
   ]
  },
  {
   "cell_type": "markdown",
   "id": "6096bb98",
   "metadata": {},
   "source": [
    "### Обучение модели"
   ]
  },
  {
   "cell_type": "code",
   "execution_count": 17,
   "id": "b27c9d34",
   "metadata": {},
   "outputs": [
    {
     "data": {
      "text/html": [
       "<style>#sk-container-id-1 {color: black;background-color: white;}#sk-container-id-1 pre{padding: 0;}#sk-container-id-1 div.sk-toggleable {background-color: white;}#sk-container-id-1 label.sk-toggleable__label {cursor: pointer;display: block;width: 100%;margin-bottom: 0;padding: 0.3em;box-sizing: border-box;text-align: center;}#sk-container-id-1 label.sk-toggleable__label-arrow:before {content: \"▸\";float: left;margin-right: 0.25em;color: #696969;}#sk-container-id-1 label.sk-toggleable__label-arrow:hover:before {color: black;}#sk-container-id-1 div.sk-estimator:hover label.sk-toggleable__label-arrow:before {color: black;}#sk-container-id-1 div.sk-toggleable__content {max-height: 0;max-width: 0;overflow: hidden;text-align: left;background-color: #f0f8ff;}#sk-container-id-1 div.sk-toggleable__content pre {margin: 0.2em;color: black;border-radius: 0.25em;background-color: #f0f8ff;}#sk-container-id-1 input.sk-toggleable__control:checked~div.sk-toggleable__content {max-height: 200px;max-width: 100%;overflow: auto;}#sk-container-id-1 input.sk-toggleable__control:checked~label.sk-toggleable__label-arrow:before {content: \"▾\";}#sk-container-id-1 div.sk-estimator input.sk-toggleable__control:checked~label.sk-toggleable__label {background-color: #d4ebff;}#sk-container-id-1 div.sk-label input.sk-toggleable__control:checked~label.sk-toggleable__label {background-color: #d4ebff;}#sk-container-id-1 input.sk-hidden--visually {border: 0;clip: rect(1px 1px 1px 1px);clip: rect(1px, 1px, 1px, 1px);height: 1px;margin: -1px;overflow: hidden;padding: 0;position: absolute;width: 1px;}#sk-container-id-1 div.sk-estimator {font-family: monospace;background-color: #f0f8ff;border: 1px dotted black;border-radius: 0.25em;box-sizing: border-box;margin-bottom: 0.5em;}#sk-container-id-1 div.sk-estimator:hover {background-color: #d4ebff;}#sk-container-id-1 div.sk-parallel-item::after {content: \"\";width: 100%;border-bottom: 1px solid gray;flex-grow: 1;}#sk-container-id-1 div.sk-label:hover label.sk-toggleable__label {background-color: #d4ebff;}#sk-container-id-1 div.sk-serial::before {content: \"\";position: absolute;border-left: 1px solid gray;box-sizing: border-box;top: 0;bottom: 0;left: 50%;z-index: 0;}#sk-container-id-1 div.sk-serial {display: flex;flex-direction: column;align-items: center;background-color: white;padding-right: 0.2em;padding-left: 0.2em;position: relative;}#sk-container-id-1 div.sk-item {position: relative;z-index: 1;}#sk-container-id-1 div.sk-parallel {display: flex;align-items: stretch;justify-content: center;background-color: white;position: relative;}#sk-container-id-1 div.sk-item::before, #sk-container-id-1 div.sk-parallel-item::before {content: \"\";position: absolute;border-left: 1px solid gray;box-sizing: border-box;top: 0;bottom: 0;left: 50%;z-index: -1;}#sk-container-id-1 div.sk-parallel-item {display: flex;flex-direction: column;z-index: 1;position: relative;background-color: white;}#sk-container-id-1 div.sk-parallel-item:first-child::after {align-self: flex-end;width: 50%;}#sk-container-id-1 div.sk-parallel-item:last-child::after {align-self: flex-start;width: 50%;}#sk-container-id-1 div.sk-parallel-item:only-child::after {width: 0;}#sk-container-id-1 div.sk-dashed-wrapped {border: 1px dashed gray;margin: 0 0.4em 0.5em 0.4em;box-sizing: border-box;padding-bottom: 0.4em;background-color: white;}#sk-container-id-1 div.sk-label label {font-family: monospace;font-weight: bold;display: inline-block;line-height: 1.2em;}#sk-container-id-1 div.sk-label-container {text-align: center;}#sk-container-id-1 div.sk-container {/* jupyter's `normalize.less` sets `[hidden] { display: none; }` but bootstrap.min.css set `[hidden] { display: none !important; }` so we also need the `!important` here to be able to override the default hidden behavior on the sphinx rendered scikit-learn.org. See: https://github.com/scikit-learn/scikit-learn/issues/21755 */display: inline-block !important;position: relative;}#sk-container-id-1 div.sk-text-repr-fallback {display: none;}</style><div id=\"sk-container-id-1\" class=\"sk-top-container\"><div class=\"sk-text-repr-fallback\"><pre>KNeighborsClassifier()</pre><b>In a Jupyter environment, please rerun this cell to show the HTML representation or trust the notebook. <br />On GitHub, the HTML representation is unable to render, please try loading this page with nbviewer.org.</b></div><div class=\"sk-container\" hidden><div class=\"sk-item\"><div class=\"sk-estimator sk-toggleable\"><input class=\"sk-toggleable__control sk-hidden--visually\" id=\"sk-estimator-id-1\" type=\"checkbox\" checked><label for=\"sk-estimator-id-1\" class=\"sk-toggleable__label sk-toggleable__label-arrow\">KNeighborsClassifier</label><div class=\"sk-toggleable__content\"><pre>KNeighborsClassifier()</pre></div></div></div></div></div>"
      ],
      "text/plain": [
       "KNeighborsClassifier()"
      ]
     },
     "execution_count": 17,
     "metadata": {},
     "output_type": "execute_result"
    }
   ],
   "source": [
    "knn.fit(X=X_train, y=y_train)"
   ]
  },
  {
   "cell_type": "markdown",
   "id": "c6f837ca",
   "metadata": {},
   "source": [
    "### Прогнозирование классов для рукописных цифр\n",
    "Итак, после загрузки данных в KNeighborsClassifier эти данные могут использоваться с тестовыми образцами для построения прогнозов.\n",
    "\n",
    "При вызове метода predict оценщика с передачей X_test в аргументе возвращает массив,\n",
    "содержащий прогнозируемый класс каждого тестового изображения:"
   ]
  },
  {
   "cell_type": "code",
   "execution_count": 18,
   "id": "def372e5",
   "metadata": {},
   "outputs": [],
   "source": [
    "predicted = knn.predict(X=X_test)"
   ]
  },
  {
   "cell_type": "code",
   "execution_count": 19,
   "id": "8163e466",
   "metadata": {},
   "outputs": [],
   "source": [
    "expected = y_test"
   ]
  },
  {
   "cell_type": "code",
   "execution_count": 20,
   "id": "47123165",
   "metadata": {},
   "outputs": [
    {
     "data": {
      "text/plain": [
       "array([0, 4, 9, 9, 3, 1, 4, 1, 5, 0, 4, 9, 4, 1, 5, 3, 3, 8, 5, 6])"
      ]
     },
     "execution_count": 20,
     "metadata": {},
     "output_type": "execute_result"
    }
   ],
   "source": [
    "predicted[:20]"
   ]
  },
  {
   "cell_type": "code",
   "execution_count": 21,
   "id": "18a7a61d",
   "metadata": {},
   "outputs": [
    {
     "data": {
      "text/plain": [
       "array([0, 4, 9, 9, 3, 1, 4, 1, 5, 0, 4, 9, 4, 1, 5, 3, 3, 8, 3, 6])"
      ]
     },
     "execution_count": 21,
     "metadata": {},
     "output_type": "execute_result"
    }
   ],
   "source": [
    "expected[:20]"
   ]
  },
  {
   "cell_type": "markdown",
   "id": "ccb8450b",
   "metadata": {},
   "source": [
    "Как видим, среди первых 20 элементов массивов predicted и expected не совпадают только значения с индексом 18. Здесь ожидалась цифра 3, но модель предсказала 5.\n",
    "\n",
    "Воспользуемся трансформацией списка для нахождения всех ошибочных прогнозов для всего тестового набора, то есть тех случаев, в которых значения из массивов predicted и expected не совпадают:"
   ]
  },
  {
   "cell_type": "code",
   "execution_count": 22,
   "id": "59f29a83",
   "metadata": {},
   "outputs": [],
   "source": [
    "wrong = [(p, e) for (p, e) in zip(predicted, expected) if p != e]"
   ]
  },
  {
   "cell_type": "code",
   "execution_count": 23,
   "id": "0e4197a3",
   "metadata": {},
   "outputs": [
    {
     "data": {
      "text/plain": [
       "[(5, 3),\n",
       " (8, 9),\n",
       " (4, 9),\n",
       " (7, 3),\n",
       " (7, 4),\n",
       " (2, 8),\n",
       " (9, 8),\n",
       " (3, 8),\n",
       " (3, 8),\n",
       " (1, 8)]"
      ]
     },
     "execution_count": 23,
     "metadata": {},
     "output_type": "execute_result"
    }
   ],
   "source": [
    "wrong"
   ]
  },
  {
   "cell_type": "markdown",
   "id": "40f52cc3",
   "metadata": {},
   "source": [
    "### Метрики точности модели\n",
    "После того как модель пройдет обучение и тестирование, желательно оценить ее точность."
   ]
  },
  {
   "cell_type": "markdown",
   "id": "e0910ab1",
   "metadata": {},
   "source": [
    "#### Метод score оценщика"
   ]
  },
  {
   "cell_type": "code",
   "execution_count": 24,
   "id": "baf420db",
   "metadata": {},
   "outputs": [
    {
     "name": "stdout",
     "output_type": "stream",
     "text": [
      "97.78%\n"
     ]
    }
   ],
   "source": [
    "print(f'{knn.score(X_test, y_test):.2%}')"
   ]
  },
  {
   "cell_type": "markdown",
   "id": "5a3eadcf",
   "metadata": {},
   "source": [
    "#### Матрица несоответствий"
   ]
  },
  {
   "cell_type": "code",
   "execution_count": 25,
   "id": "01b12f9b",
   "metadata": {},
   "outputs": [],
   "source": [
    "from sklearn.metrics import confusion_matrix\n",
    "confusion = confusion_matrix(y_true=expected, y_pred=predicted)"
   ]
  },
  {
   "cell_type": "markdown",
   "id": "f3956eca",
   "metadata": {},
   "source": [
    "Правильные прогнозы находятся на главной диагонали, проходящей от левого верхнего до правого нижнего угла. Ненулевые значения, не находящиеся на главной диагонали, обозначают ошибочные прогнозы:"
   ]
  },
  {
   "cell_type": "code",
   "execution_count": 26,
   "id": "54b024bc",
   "metadata": {},
   "outputs": [
    {
     "data": {
      "text/plain": [
       "array([[45,  0,  0,  0,  0,  0,  0,  0,  0,  0],\n",
       "       [ 0, 45,  0,  0,  0,  0,  0,  0,  0,  0],\n",
       "       [ 0,  0, 54,  0,  0,  0,  0,  0,  0,  0],\n",
       "       [ 0,  0,  0, 42,  0,  1,  0,  1,  0,  0],\n",
       "       [ 0,  0,  0,  0, 49,  0,  0,  1,  0,  0],\n",
       "       [ 0,  0,  0,  0,  0, 38,  0,  0,  0,  0],\n",
       "       [ 0,  0,  0,  0,  0,  0, 42,  0,  0,  0],\n",
       "       [ 0,  0,  0,  0,  0,  0,  0, 45,  0,  0],\n",
       "       [ 0,  1,  1,  2,  0,  0,  0,  0, 39,  1],\n",
       "       [ 0,  0,  0,  0,  1,  0,  0,  0,  1, 41]], dtype=int64)"
      ]
     },
     "execution_count": 26,
     "metadata": {},
     "output_type": "execute_result"
    }
   ],
   "source": [
    "confusion"
   ]
  },
  {
   "cell_type": "markdown",
   "id": "347867f3",
   "metadata": {},
   "source": [
    "Каждая строка представляет один класс, то есть одну из цифр от 0 до 9.\n",
    "\n",
    "Теперь возьмем строку 8, представляющую результат для цифры 8:\n",
    "[ 0, 1, 1, 2, 0, 0, 0, 0, 39, 1]\n",
    "- 1 в столбце с индексом 1 означает, что одна цифра 8 была неправильно\n",
    "классифицирована как 1.\n",
    "- 1 в столбце с индексом 2 означает, что одна цифра 8 была неправильно\n",
    "классифицирована как 2.\n",
    "- 2 в столбце с индексом 3 означает, что две цифры 8 были неправильно\n",
    "классифицированы как 3.\n",
    "- 39 в столбце с индексом 8 означает, что 39 цифр 8 были правильно классифицированы как 8.\n",
    "- 1 в столбце с индексом 9 означает, что одна цифра 8 была неправильно\n",
    "классифицирована как 9."
   ]
  },
  {
   "cell_type": "markdown",
   "id": "dc6a9623",
   "metadata": {},
   "source": [
    "#### Отчет по классификации"
   ]
  },
  {
   "cell_type": "code",
   "execution_count": 27,
   "id": "ea0b6eed",
   "metadata": {},
   "outputs": [],
   "source": [
    "from sklearn.metrics import classification_report"
   ]
  },
  {
   "cell_type": "code",
   "execution_count": 28,
   "id": "a6555721",
   "metadata": {},
   "outputs": [],
   "source": [
    "names = [str(digit) for digit in digits.target_names]"
   ]
  },
  {
   "cell_type": "code",
   "execution_count": 29,
   "id": "3977aa7d",
   "metadata": {},
   "outputs": [
    {
     "name": "stdout",
     "output_type": "stream",
     "text": [
      "              precision    recall  f1-score   support\n",
      "\n",
      "           0       1.00      1.00      1.00        45\n",
      "           1       0.98      1.00      0.99        45\n",
      "           2       0.98      1.00      0.99        54\n",
      "           3       0.95      0.95      0.95        44\n",
      "           4       0.98      0.98      0.98        50\n",
      "           5       0.97      1.00      0.99        38\n",
      "           6       1.00      1.00      1.00        42\n",
      "           7       0.96      1.00      0.98        45\n",
      "           8       0.97      0.89      0.93        44\n",
      "           9       0.98      0.95      0.96        43\n",
      "\n",
      "    accuracy                           0.98       450\n",
      "   macro avg       0.98      0.98      0.98       450\n",
      "weighted avg       0.98      0.98      0.98       450\n",
      "\n"
     ]
    }
   ],
   "source": [
    "print(classification_report(expected, predicted,\n",
    "target_names=names))"
   ]
  },
  {
   "cell_type": "markdown",
   "id": "190e83ed",
   "metadata": {},
   "source": [
    "В этом отчете:\n",
    "- precision — точность, то есть общее количество точных прогнозов для заданной цифры, разделенное на общее количество прогнозов для этой цифры. \n",
    "- recall — отклик, то есть общее количество правильных прогнозов для заданной цифры, разделенное на общее количество образцов, которые должны были прогнозироваться как эта цифра.\n",
    "- f1-score — среднее значение точности и отклика;\n",
    "- support — количество образцов с заданным ожидаемым значением."
   ]
  },
  {
   "cell_type": "markdown",
   "id": "68732b77",
   "metadata": {},
   "source": [
    "#### Визуализация матрицы несоответствий"
   ]
  },
  {
   "cell_type": "code",
   "execution_count": 30,
   "id": "f47b5fad",
   "metadata": {},
   "outputs": [],
   "source": [
    "import pandas as pd"
   ]
  },
  {
   "cell_type": "code",
   "execution_count": 31,
   "id": "2c3d13dc",
   "metadata": {},
   "outputs": [],
   "source": [
    "confusion_df = pd.DataFrame(confusion, index=range(10),\n",
    "columns=range(10))"
   ]
  },
  {
   "cell_type": "code",
   "execution_count": 32,
   "id": "30df1a5a",
   "metadata": {},
   "outputs": [],
   "source": [
    "import seaborn as sns"
   ]
  },
  {
   "cell_type": "code",
   "execution_count": 33,
   "id": "b6153299",
   "metadata": {},
   "outputs": [
    {
     "data": {
      "image/png": "[encoded data removed]",
      "text/plain": [
       "<Figure size 640x480 with 2 Axes>"
      ]
     },
     "metadata": {},
     "output_type": "display_data"
    }
   ],
   "source": [
    "axes = sns.heatmap(confusion_df, annot=True,\n",
    "cmap='nipy_spectral_r')"
   ]
  },
  {
   "cell_type": "markdown",
   "id": "1aefb723",
   "metadata": {},
   "source": [
    "### K-проходная перекрестная проверка"
   ]
  },
  {
   "cell_type": "markdown",
   "id": "f83c7d94",
   "metadata": {},
   "source": [
    "K-проходная перекрестная проверка позволяет использовать все данные как для обучения, так и для тестирования. Повторное обучение и тестирование модели с разными частями набора данных помогают лучше понять, как модель справляется с прогнозированием для новых данных. Набор данных разбивается на k частей равного размера\n",
    "\n",
    "- Сначала выполняется обучение на частях 1–9, а затем тестирование с частью 10.\n",
    "- Затем выполняется обучение на частях 1–8 и 10, а затем тестирование с частью 9.\n",
    "- Затем выполняется обучение на частях 1–7 и 9–10, а затем тестирование с частью 8.\n",
    "\n",
    "Цикл обучения и тестирования продолжается до тех пор, пока каждая часть не будет использована для тестирования модели."
   ]
  },
  {
   "cell_type": "code",
   "execution_count": 34,
   "id": "4eff5cff",
   "metadata": {},
   "outputs": [],
   "source": [
    "from sklearn.model_selection import KFold"
   ]
  },
  {
   "cell_type": "code",
   "execution_count": 35,
   "id": "28e2d7b0",
   "metadata": {},
   "outputs": [],
   "source": [
    "kfold = KFold(n_splits=10, random_state=11, shuffle=True)"
   ]
  },
  {
   "cell_type": "code",
   "execution_count": 36,
   "id": "b866bdc0",
   "metadata": {},
   "outputs": [],
   "source": [
    "# n_splits=10 - колво частей\n",
    "# shuffle=True - перемешивание данных перед разбиением"
   ]
  },
  {
   "cell_type": "code",
   "execution_count": 37,
   "id": "7b67e971",
   "metadata": {},
   "outputs": [],
   "source": [
    "from sklearn.model_selection import cross_val_score"
   ]
  },
  {
   "cell_type": "code",
   "execution_count": 38,
   "id": "4d0364ef",
   "metadata": {},
   "outputs": [],
   "source": [
    "scores = cross_val_score(estimator=knn, X=digits.data,\n",
    "                         y=digits.target, cv=kfold)\n",
    "\n",
    "# estimator=knn — оценщик, который вы хотите проверить;\n",
    "# X=digits.data — образцы, используемые для обучения и тестирования;\n",
    "# y=digits.target — прогнозы целевых значений для образцов;\n",
    "\n",
    "# cv=kfold — генератор перекрестной проверки, определяющий способ \n",
    "#разбиения образцов и целевых значений для обучения и тестирования."
   ]
  },
  {
   "cell_type": "code",
   "execution_count": 39,
   "id": "bd9319c7",
   "metadata": {},
   "outputs": [
    {
     "data": {
      "text/plain": [
       "array([0.97777778, 0.99444444, 0.98888889, 0.97777778, 0.98888889,\n",
       "       0.99444444, 0.97777778, 0.98882682, 1.        , 0.98324022])"
      ]
     },
     "execution_count": 39,
     "metadata": {},
     "output_type": "execute_result"
    }
   ],
   "source": [
    "scores"
   ]
  },
  {
   "cell_type": "code",
   "execution_count": 40,
   "id": "b53d39f5",
   "metadata": {},
   "outputs": [
    {
     "name": "stdout",
     "output_type": "stream",
     "text": [
      "Mean accuracy: 98.72%\n"
     ]
    }
   ],
   "source": [
    "print(f'Mean accuracy: {scores.mean():.2%}')"
   ]
  },
  {
   "cell_type": "code",
   "execution_count": 41,
   "id": "491a8f81",
   "metadata": {},
   "outputs": [
    {
     "name": "stdout",
     "output_type": "stream",
     "text": [
      "Accuracy standard deviation: 0.75%\n"
     ]
    }
   ],
   "source": [
    "print(f'Accuracy standard deviation: {scores.std():.2%}')"
   ]
  },
  {
   "cell_type": "markdown",
   "id": "c0ca7798",
   "metadata": {},
   "source": [
    "В среднем модель обеспечивала точность 98,72%, то есть даже больше, чем в предыдущем варианте, когда 75% данных использовалось для обучения, а 25% — для тестирования."
   ]
  },
  {
   "cell_type": "markdown",
   "id": "784c4dd3",
   "metadata": {},
   "source": [
    "### Выполнение нескольких моделей для поиска наилучшей"
   ]
  },
  {
   "cell_type": "code",
   "execution_count": 42,
   "id": "ccc3f014",
   "metadata": {},
   "outputs": [],
   "source": [
    "from sklearn.svm import SVC\n",
    "from sklearn.naive_bayes import GaussianNB"
   ]
  },
  {
   "cell_type": "code",
   "execution_count": 43,
   "id": "8a28c129",
   "metadata": {},
   "outputs": [],
   "source": [
    "estimators = {\n",
    "    'KNeighborsClassifier': knn,\n",
    "    'SVC': SVC(gamma='scale'),\n",
    "    'GaussianNB': GaussianNB()}"
   ]
  },
  {
   "cell_type": "code",
   "execution_count": 44,
   "id": "3c784811",
   "metadata": {},
   "outputs": [
    {
     "name": "stdout",
     "output_type": "stream",
     "text": [
      "KNeighborsClassifier: mean accuracy=98.72%; standard deviation=0.75%\n",
      "                 SVC: mean accuracy=98.72%; standard deviation=0.79%\n",
      "          GaussianNB: mean accuracy=84.48%; standard deviation=3.47%\n"
     ]
    }
   ],
   "source": [
    "for estimator_name, estimator_object in estimators.items():\n",
    "    kfold = KFold(n_splits=10, random_state=11, shuffle=True)\n",
    "    scores = cross_val_score(estimator=estimator_object,\n",
    "    X=digits.data, y=digits.target, cv=kfold)\n",
    "    print(f'{estimator_name:>20}: ' +\n",
    "    f'mean accuracy={scores.mean():.2%}; ' +\n",
    "    f'standard deviation={scores.std():.2%}')"
   ]
  },
  {
   "cell_type": "markdown",
   "id": "d857c128",
   "metadata": {},
   "source": [
    "Судя по результатам, оценщик SVC обеспечивает лучшую точность — по\n",
    "крайней мере, с настройками по умолчанию. Возможно, настройка некоторых\n",
    "параметров позволит добиться еще более точных результатов.\n",
    "Точности оценщиков KNeighborsClassifier и SVC почти идентичны, поэтому\n",
    "стоит провести настройку гиперпараметров каждого оценщика для выбора\n",
    "лучшего варианта."
   ]
  },
  {
   "cell_type": "markdown",
   "id": "eccc1b01",
   "metadata": {},
   "source": [
    "### Настройка гиперпараметров\n",
    "\n",
    "Гиперпараметры задаются до того, как\n",
    "алгоритм начнет использоваться для обучения модели. В реальных исследова\n",
    "ниях в процессе настройки гиперпараметров должны быть выбраны значения\n",
    "гиперпараметров, которые обеспечивают лучшие возможные прогнозы."
   ]
  },
  {
   "cell_type": "code",
   "execution_count": 46,
   "id": "fae273f8",
   "metadata": {},
   "outputs": [
    {
     "name": "stdout",
     "output_type": "stream",
     "text": [
      "k=1 ; mean accuracy=98.83%; standard deviation=0.58%\n",
      "k=3 ; mean accuracy=98.83%; standard deviation=0.72%\n",
      "k=5 ; mean accuracy=98.72%; standard deviation=0.75%\n",
      "k=7 ; mean accuracy=98.44%; standard deviation=0.96%\n",
      "k=9 ; mean accuracy=98.39%; standard deviation=0.80%\n",
      "k=11; mean accuracy=98.33%; standard deviation=0.90%\n",
      "k=13; mean accuracy=97.89%; standard deviation=0.89%\n",
      "k=15; mean accuracy=97.89%; standard deviation=1.02%\n",
      "k=17; mean accuracy=97.50%; standard deviation=1.00%\n",
      "k=19; mean accuracy=97.66%; standard deviation=0.96%\n"
     ]
    }
   ],
   "source": [
    "for k in range(1, 20, 2):\n",
    "    kfold = KFold(n_splits=10, random_state=11, shuffle=True)\n",
    "    knn = KNeighborsClassifier(n_neighbors=k)\n",
    "    scores = cross_val_score(estimator=knn,\n",
    "        X=digits.data, y=digits.target, cv=kfold)\n",
    "    print(f'k={k:<2}; mean accuracy={scores.mean():.2%}; ' +\n",
    "        f'standard deviation={scores.std():.2%}')"
   ]
  },
  {
   "cell_type": "code",
   "execution_count": null,
   "id": "65d2739f",
   "metadata": {},
   "outputs": [],
   "source": []
  }
 ],
 "metadata": {
  "kernelspec": {
   "display_name": "Python 3 (ipykernel)",
   "language": "python",
   "name": "python3"
  },
  "language_info": {
   "codemirror_mode": {
    "name": "ipython",
    "version": 3
   },
   "file_extension": ".py",
   "mimetype": "text/x-python",
   "name": "python",
   "nbconvert_exporter": "python",
   "pygments_lexer": "ipython3",
   "version": "3.9.13"
  }
 },
 "nbformat": 4,
 "nbformat_minor": 5
}
